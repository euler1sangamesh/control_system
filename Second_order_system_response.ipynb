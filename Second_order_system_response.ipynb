{
 "cells": [
  {
   "cell_type": "code",
   "execution_count": 6,
   "id": "29fbd827",
   "metadata": {},
   "outputs": [],
   "source": [
    "import sympy\n",
    "import matplotlib.pyplot as plt\n",
    "import numpy\n",
    "sympy.init_printing()\n",
    "%matplotlib inline"
   ]
  },
  {
   "cell_type": "code",
   "execution_count": null,
   "id": "0d59cc54",
   "metadata": {},
   "outputs": [],
   "source": []
  },
  {
   "cell_type": "code",
   "execution_count": null,
   "id": "bf7e5f70",
   "metadata": {},
   "outputs": [],
   "source": []
  },
  {
   "cell_type": "code",
   "execution_count": 7,
   "id": "618688a7",
   "metadata": {},
   "outputs": [],
   "source": [
    "t, sigma, omega = sympy.symbols('t, sigma, omega',real=True, positive=True) \n",
    "s = sympy.Symbol('s')"
   ]
  },
  {
   "cell_type": "code",
   "execution_count": 8,
   "id": "75c239d9",
   "metadata": {},
   "outputs": [],
   "source": [
    "from lcapy import j"
   ]
  },
  {
   "cell_type": "code",
   "execution_count": 9,
   "id": "0263c64b",
   "metadata": {},
   "outputs": [],
   "source": [
    "G=(sigma**2+omega**2)/((s-(-sigma + j*omega))*(s-(-sigma-j*omega)))"
   ]
  },
  {
   "cell_type": "code",
   "execution_count": 14,
   "id": "0101f878",
   "metadata": {},
   "outputs": [
    {
     "data": {
      "image/png": "[encoded data removed]",
      "text/latex": [
       "$\\displaystyle \\left( A, \\  B, \\  C, \\  D\\right)$"
      ],
      "text/plain": [
       "(A, B, C, D)"
      ]
     },
     "execution_count": 14,
     "metadata": {},
     "output_type": "execute_result"
    }
   ],
   "source": [
    "sympy.var('A:D')"
   ]
  },
  {
   "cell_type": "code",
   "execution_count": 15,
   "id": "de52f086",
   "metadata": {},
   "outputs": [],
   "source": [
    "PF_G = A/s + B/(s-(-sigma + j*omega)) + C/(s-(-sigma-j*omega))"
   ]
  },
  {
   "cell_type": "code",
   "execution_count": 16,
   "id": "ee7db1b6",
   "metadata": {},
   "outputs": [
    {
     "data": {
      "image/png": "[encoded data removed]",
      "text/latex": [
       "$\\displaystyle \\frac{A}{s} + \\frac{B}{- i \\omega + s + \\sigma} + \\frac{C}{i \\omega + s + \\sigma}$"
      ],
      "text/plain": [
       "A        B              C     \n",
       "─ + ──────────── + ───────────\n",
       "s   -ⅉ⋅ω + s + σ   ⅉ⋅ω + s + σ"
      ]
     },
     "execution_count": 16,
     "metadata": {},
     "output_type": "execute_result"
    }
   ],
   "source": [
    "PF_G"
   ]
  },
  {
   "cell_type": "code",
   "execution_count": 20,
   "id": "f3f03442",
   "metadata": {},
   "outputs": [],
   "source": [
    "add_G_factor_s = sympy.factor(sympy.together(PF_G), s)"
   ]
  },
  {
   "cell_type": "code",
   "execution_count": 21,
   "id": "a55e7652",
   "metadata": {},
   "outputs": [],
   "source": [
    "eqn_PF_exp = sympy.Eq(add_G_factor_s, G)"
   ]
  },
  {
   "cell_type": "code",
   "execution_count": 22,
   "id": "3b2f2445",
   "metadata": {},
   "outputs": [
    {
     "data": {
      "image/png": "[encoded data removed]",
      "text/latex": [
       "$\\displaystyle \\frac{A \\omega^{2} + A \\sigma^{2} + s^{2} \\left(A + B + C\\right) + s \\left(2 A \\sigma + i B \\omega + B \\sigma - i C \\omega + C \\sigma\\right)}{s \\left(- i \\omega + s + \\sigma\\right) \\left(i \\omega + s + \\sigma\\right)} = \\frac{\\omega^{2} + \\sigma^{2}}{\\left(- i \\omega + s + \\sigma\\right) \\left(i \\omega + s + \\sigma\\right)}$"
      ],
      "text/plain": [
       "   2      2    2                                                 \n",
       "A⋅ω  + A⋅σ  + s ⋅(A + B + C) + s⋅(2⋅A⋅σ + ⅉ⋅B⋅ω + B⋅σ - ⅉ⋅C⋅ω + C\n",
       "─────────────────────────────────────────────────────────────────\n",
       "                   s⋅(-ⅉ⋅ω + s + σ)⋅(ⅉ⋅ω + s + σ)                \n",
       "\n",
       "                 2    2           \n",
       "⋅σ)             ω  + σ            \n",
       "─── = ────────────────────────────\n",
       "      (-ⅉ⋅ω + s + σ)⋅(ⅉ⋅ω + s + σ)"
      ]
     },
     "execution_count": 22,
     "metadata": {},
     "output_type": "execute_result"
    }
   ],
   "source": [
    "eqn_PF_exp"
   ]
  },
  {
   "cell_type": "code",
   "execution_count": null,
   "id": "0034de06",
   "metadata": {},
   "outputs": [],
   "source": []
  }
 ],
 "metadata": {
  "kernelspec": {
   "display_name": "Python 3 (ipykernel)",
   "language": "python",
   "name": "python3"
  },
  "language_info": {
   "codemirror_mode": {
    "name": "ipython",
    "version": 3
   },
   "file_extension": ".py",
   "mimetype": "text/x-python",
   "name": "python",
   "nbconvert_exporter": "python",
   "pygments_lexer": "ipython3",
   "version": "3.9.7"
  }
 },
 "nbformat": 4,
 "nbformat_minor": 5
}
